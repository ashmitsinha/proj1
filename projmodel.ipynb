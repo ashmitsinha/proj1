{
 "cells": [
  {
   "cell_type": "code",
   "execution_count": 1,
   "id": "3130931a",
   "metadata": {},
   "outputs": [
    {
     "name": "stdout",
     "output_type": "stream",
     "text": [
      "Looking in links: https://download.pytorch.org/whl/nightly/cpu/torch_nightly.html\n",
      "Requirement already satisfied: torch in c:\\users\\ashmit_sinha\\appdata\\local\\anaconda3\\lib\\site-packages (2.2.0.dev20231122+cpu)\n",
      "Requirement already satisfied: filelock in c:\\users\\ashmit_sinha\\appdata\\local\\anaconda3\\lib\\site-packages (from torch) (3.9.0)\n",
      "Requirement already satisfied: typing-extensions>=4.8.0 in c:\\users\\ashmit_sinha\\appdata\\local\\anaconda3\\lib\\site-packages (from torch) (4.8.0)\n",
      "Requirement already satisfied: sympy in c:\\users\\ashmit_sinha\\appdata\\local\\anaconda3\\lib\\site-packages (from torch) (1.11.1)\n",
      "Requirement already satisfied: networkx in c:\\users\\ashmit_sinha\\appdata\\local\\anaconda3\\lib\\site-packages (from torch) (3.1)\n",
      "Requirement already satisfied: jinja2 in c:\\users\\ashmit_sinha\\appdata\\local\\anaconda3\\lib\\site-packages (from torch) (3.1.2)\n",
      "Requirement already satisfied: fsspec in c:\\users\\ashmit_sinha\\appdata\\local\\anaconda3\\lib\\site-packages (from torch) (2023.3.0)\n",
      "Requirement already satisfied: MarkupSafe>=2.0 in c:\\users\\ashmit_sinha\\appdata\\local\\anaconda3\\lib\\site-packages (from jinja2->torch) (2.1.1)\n",
      "Requirement already satisfied: mpmath>=0.19 in c:\\users\\ashmit_sinha\\appdata\\local\\anaconda3\\lib\\site-packages (from sympy->torch) (1.3.0)\n",
      "Note: you may need to restart the kernel to use updated packages.\n"
     ]
    }
   ],
   "source": [
    "pip install --pre torch -f https://download.pytorch.org/whl/nightly/cpu/torch_nightly.html"
   ]
  },
  {
   "cell_type": "code",
   "execution_count": 2,
   "id": "0408b968",
   "metadata": {},
   "outputs": [
    {
     "name": "stdout",
     "output_type": "stream",
     "text": [
      "Requirement already satisfied: transformers in c:\\users\\ashmit_sinha\\appdata\\local\\anaconda3\\lib\\site-packages (2.1.1)\n",
      "Requirement already satisfied: numpy in c:\\users\\ashmit_sinha\\appdata\\local\\anaconda3\\lib\\site-packages (from transformers) (1.24.3)\n",
      "Requirement already satisfied: boto3 in c:\\users\\ashmit_sinha\\appdata\\local\\anaconda3\\lib\\site-packages (from transformers) (1.24.28)\n",
      "Requirement already satisfied: requests in c:\\users\\ashmit_sinha\\appdata\\local\\anaconda3\\lib\\site-packages (from transformers) (2.31.0)\n",
      "Requirement already satisfied: tqdm in c:\\users\\ashmit_sinha\\appdata\\local\\anaconda3\\lib\\site-packages (from transformers) (4.65.0)\n",
      "Requirement already satisfied: regex in c:\\users\\ashmit_sinha\\appdata\\local\\anaconda3\\lib\\site-packages (from transformers) (2022.7.9)\n",
      "Collecting sentencepiece (from transformers)\n",
      "  Downloading sentencepiece-0.1.99-cp311-cp311-win_amd64.whl (977 kB)\n",
      "     ---------------------------------------- 0.0/977.5 kB ? eta -:--:--\n",
      "     ---- --------------------------------- 112.6/977.5 kB 6.4 MB/s eta 0:00:01\n",
      "     --------------- ---------------------- 409.6/977.5 kB 5.1 MB/s eta 0:00:01\n",
      "     ----------------------------- -------- 757.8/977.5 kB 6.0 MB/s eta 0:00:01\n",
      "     -------------------------------------  972.8/977.5 kB 6.8 MB/s eta 0:00:01\n",
      "     -------------------------------------- 977.5/977.5 kB 5.1 MB/s eta 0:00:00\n",
      "Requirement already satisfied: sacremoses in c:\\users\\ashmit_sinha\\appdata\\local\\anaconda3\\lib\\site-packages (from transformers) (0.0.43)\n",
      "Requirement already satisfied: botocore<1.28.0,>=1.27.28 in c:\\users\\ashmit_sinha\\appdata\\local\\anaconda3\\lib\\site-packages (from boto3->transformers) (1.27.59)\n",
      "Requirement already satisfied: jmespath<2.0.0,>=0.7.1 in c:\\users\\ashmit_sinha\\appdata\\local\\anaconda3\\lib\\site-packages (from boto3->transformers) (0.10.0)\n",
      "Requirement already satisfied: s3transfer<0.7.0,>=0.6.0 in c:\\users\\ashmit_sinha\\appdata\\local\\anaconda3\\lib\\site-packages (from boto3->transformers) (0.6.0)\n",
      "Requirement already satisfied: charset-normalizer<4,>=2 in c:\\users\\ashmit_sinha\\appdata\\local\\anaconda3\\lib\\site-packages (from requests->transformers) (2.0.4)\n",
      "Requirement already satisfied: idna<4,>=2.5 in c:\\users\\ashmit_sinha\\appdata\\local\\anaconda3\\lib\\site-packages (from requests->transformers) (3.4)\n",
      "Requirement already satisfied: urllib3<3,>=1.21.1 in c:\\users\\ashmit_sinha\\appdata\\local\\anaconda3\\lib\\site-packages (from requests->transformers) (1.26.16)\n",
      "Requirement already satisfied: certifi>=2017.4.17 in c:\\users\\ashmit_sinha\\appdata\\local\\anaconda3\\lib\\site-packages (from requests->transformers) (2023.7.22)\n",
      "Requirement already satisfied: six in c:\\users\\ashmit_sinha\\appdata\\local\\anaconda3\\lib\\site-packages (from sacremoses->transformers) (1.16.0)\n",
      "Requirement already satisfied: click in c:\\users\\ashmit_sinha\\appdata\\local\\anaconda3\\lib\\site-packages (from sacremoses->transformers) (8.0.4)\n",
      "Requirement already satisfied: joblib in c:\\users\\ashmit_sinha\\appdata\\local\\anaconda3\\lib\\site-packages (from sacremoses->transformers) (1.2.0)\n",
      "Requirement already satisfied: colorama in c:\\users\\ashmit_sinha\\appdata\\local\\anaconda3\\lib\\site-packages (from tqdm->transformers) (0.4.6)\n",
      "Requirement already satisfied: python-dateutil<3.0.0,>=2.1 in c:\\users\\ashmit_sinha\\appdata\\local\\anaconda3\\lib\\site-packages (from botocore<1.28.0,>=1.27.28->boto3->transformers) (2.8.2)\n",
      "Installing collected packages: sentencepiece\n",
      "Successfully installed sentencepiece-0.1.99\n"
     ]
    }
   ],
   "source": [
    "!pip install transformers\n"
   ]
  },
  {
   "cell_type": "code",
   "execution_count": 3,
   "id": "dbc83b0b",
   "metadata": {},
   "outputs": [
    {
     "name": "stdout",
     "output_type": "stream",
     "text": [
      "Collecting pytorch\n",
      "  Downloading pytorch-1.0.2.tar.gz (689 bytes)\n",
      "  Preparing metadata (setup.py): started\n",
      "  Preparing metadata (setup.py): finished with status 'done'\n",
      "Building wheels for collected packages: pytorch\n",
      "  Building wheel for pytorch (setup.py): started\n",
      "  Building wheel for pytorch (setup.py): finished with status 'error'\n",
      "  Running setup.py clean for pytorch\n",
      "Failed to build pytorch\n"
     ]
    },
    {
     "name": "stderr",
     "output_type": "stream",
     "text": [
      "  error: subprocess-exited-with-error\n",
      "  \n",
      "  python setup.py bdist_wheel did not run successfully.\n",
      "  exit code: 1\n",
      "  \n",
      "  [6 lines of output]\n",
      "  Traceback (most recent call last):\n",
      "    File \"<string>\", line 2, in <module>\n",
      "    File \"<pip-setuptools-caller>\", line 34, in <module>\n",
      "    File \"C:\\Users\\ashmit_sinha\\AppData\\Local\\Temp\\pip-install-q_wzya6y\\pytorch_1ce7a024f17f4ab5a540a680f04cb202\\setup.py\", line 15, in <module>\n",
      "      raise Exception(message)\n",
      "  Exception: You tried to install \"pytorch\". The package named for PyTorch is \"torch\"\n",
      "  [end of output]\n",
      "  \n",
      "  note: This error originates from a subprocess, and is likely not a problem with pip.\n",
      "  ERROR: Failed building wheel for pytorch\n",
      "ERROR: Could not build wheels for pytorch, which is required to install pyproject.toml-based projects\n"
     ]
    }
   ],
   "source": [
    "!pip install pytorch"
   ]
  },
  {
   "cell_type": "code",
   "execution_count": 1,
   "id": "a3171ba7",
   "metadata": {},
   "outputs": [
    {
     "ename": "ImportError",
     "evalue": "cannot import name 'PegasusForConditionalGeneration' from 'transformers' (C:\\Users\\ashmit_sinha\\AppData\\Local\\anaconda3\\Lib\\site-packages\\transformers\\__init__.py)",
     "output_type": "error",
     "traceback": [
      "\u001b[1;31m---------------------------------------------------------------------------\u001b[0m",
      "\u001b[1;31mImportError\u001b[0m                               Traceback (most recent call last)",
      "Cell \u001b[1;32mIn[1], line 1\u001b[0m\n\u001b[1;32m----> 1\u001b[0m \u001b[38;5;28;01mfrom\u001b[39;00m \u001b[38;5;21;01mtransformers\u001b[39;00m \u001b[38;5;28;01mimport\u001b[39;00m PegasusForConditionalGeneration, PegasusTokenizer\n",
      "\u001b[1;31mImportError\u001b[0m: cannot import name 'PegasusForConditionalGeneration' from 'transformers' (C:\\Users\\ashmit_sinha\\AppData\\Local\\anaconda3\\Lib\\site-packages\\transformers\\__init__.py)"
     ]
    }
   ],
   "source": [
    "from transformers import PegasusForConditionalGeneration, PegasusTokenizer\n"
   ]
  },
  {
   "cell_type": "code",
   "execution_count": 5,
   "id": "9bdb70e8",
   "metadata": {},
   "outputs": [
    {
     "name": "stdout",
     "output_type": "stream",
     "text": [
      "Collecting transformers==4.14.0\n",
      "  Downloading transformers-4.14.0-py3-none-any.whl (3.3 MB)\n",
      "     ---------------------------------------- 0.0/3.3 MB ? eta -:--:--\n",
      "     ------ --------------------------------- 0.6/3.3 MB 17.5 MB/s eta 0:00:01\n",
      "     ------------ --------------------------- 1.0/3.3 MB 16.4 MB/s eta 0:00:01\n",
      "     ------------ --------------------------- 1.0/3.3 MB 16.4 MB/s eta 0:00:01\n",
      "     ------------ --------------------------- 1.0/3.3 MB 16.4 MB/s eta 0:00:01\n",
      "     ------------ --------------------------- 1.0/3.3 MB 16.4 MB/s eta 0:00:01\n",
      "     ------------ --------------------------- 1.0/3.3 MB 16.4 MB/s eta 0:00:01\n",
      "     ------------ --------------------------- 1.0/3.3 MB 16.4 MB/s eta 0:00:01\n",
      "     ------------ --------------------------- 1.0/3.3 MB 16.4 MB/s eta 0:00:01\n",
      "     ------------ --------------------------- 1.0/3.3 MB 16.4 MB/s eta 0:00:01\n",
      "     ------------ --------------------------- 1.0/3.3 MB 16.4 MB/s eta 0:00:01\n",
      "     ------------ --------------------------- 1.0/3.3 MB 16.4 MB/s eta 0:00:01\n",
      "     ------------ --------------------------- 1.0/3.3 MB 16.4 MB/s eta 0:00:01\n",
      "     ------------ --------------------------- 1.0/3.3 MB 16.4 MB/s eta 0:00:01\n",
      "     ------------ --------------------------- 1.0/3.3 MB 16.4 MB/s eta 0:00:01\n",
      "     ------------ --------------------------- 1.0/3.3 MB 16.4 MB/s eta 0:00:01\n",
      "     ------------ --------------------------- 1.0/3.3 MB 16.4 MB/s eta 0:00:01\n",
      "     ------------ --------------------------- 1.0/3.3 MB 16.4 MB/s eta 0:00:01\n",
      "     ------------------------ --------------- 2.0/3.3 MB 2.4 MB/s eta 0:00:01\n",
      "     ------------------------- -------------- 2.1/3.3 MB 2.5 MB/s eta 0:00:01\n",
      "     ------------------------- -------------- 2.1/3.3 MB 2.5 MB/s eta 0:00:01\n",
      "     ------------------------- -------------- 2.1/3.3 MB 2.5 MB/s eta 0:00:01\n",
      "     ------------------------- -------------- 2.1/3.3 MB 2.5 MB/s eta 0:00:01\n",
      "     ------------------------- -------------- 2.1/3.3 MB 2.5 MB/s eta 0:00:01\n",
      "     ------------------------- -------------- 2.1/3.3 MB 2.5 MB/s eta 0:00:01\n",
      "     ------------------------- -------------- 2.1/3.3 MB 2.5 MB/s eta 0:00:01\n",
      "     ------------------------- -------------- 2.1/3.3 MB 2.5 MB/s eta 0:00:01\n",
      "     ------------------------- -------------- 2.1/3.3 MB 2.5 MB/s eta 0:00:01\n",
      "     ------------------------- -------------- 2.1/3.3 MB 2.5 MB/s eta 0:00:01\n",
      "     ------------------------- -------------- 2.1/3.3 MB 2.5 MB/s eta 0:00:01\n",
      "     ------------------------- -------------- 2.1/3.3 MB 2.5 MB/s eta 0:00:01\n",
      "     ------------------------- -------------- 2.1/3.3 MB 2.5 MB/s eta 0:00:01\n",
      "     -------------------------- ------------- 2.2/3.3 MB 1.5 MB/s eta 0:00:01\n",
      "     ------------------------------------- -- 3.1/3.3 MB 2.1 MB/s eta 0:00:01\n",
      "     ------------------------------------- -- 3.1/3.3 MB 2.1 MB/s eta 0:00:01\n",
      "     ------------------------------------- -- 3.1/3.3 MB 2.1 MB/s eta 0:00:01\n",
      "     ------------------------------------- -- 3.1/3.3 MB 2.1 MB/s eta 0:00:01\n",
      "     ------------------------------------- -- 3.1/3.3 MB 2.1 MB/s eta 0:00:01\n",
      "     ---------------------------------------  3.3/3.3 MB 1.9 MB/s eta 0:00:01\n",
      "     ---------------------------------------  3.3/3.3 MB 1.9 MB/s eta 0:00:01\n",
      "     ---------------------------------------- 3.3/3.3 MB 1.8 MB/s eta 0:00:00\n",
      "Requirement already satisfied: filelock in c:\\users\\ashmit_sinha\\appdata\\local\\anaconda3\\lib\\site-packages (from transformers==4.14.0) (3.9.0)\n",
      "Collecting huggingface-hub<1.0,>=0.1.0 (from transformers==4.14.0)\n",
      "  Using cached huggingface_hub-0.19.4-py3-none-any.whl.metadata (14 kB)\n",
      "Requirement already satisfied: numpy>=1.17 in c:\\users\\ashmit_sinha\\appdata\\local\\anaconda3\\lib\\site-packages (from transformers==4.14.0) (1.24.3)\n",
      "Requirement already satisfied: packaging>=20.0 in c:\\users\\ashmit_sinha\\appdata\\local\\anaconda3\\lib\\site-packages (from transformers==4.14.0) (23.0)\n",
      "Requirement already satisfied: pyyaml>=5.1 in c:\\users\\ashmit_sinha\\appdata\\local\\anaconda3\\lib\\site-packages (from transformers==4.14.0) (6.0)\n",
      "Requirement already satisfied: regex!=2019.12.17 in c:\\users\\ashmit_sinha\\appdata\\local\\anaconda3\\lib\\site-packages (from transformers==4.14.0) (2022.7.9)\n",
      "Requirement already satisfied: requests in c:\\users\\ashmit_sinha\\appdata\\local\\anaconda3\\lib\\site-packages (from transformers==4.14.0) (2.31.0)\n",
      "Requirement already satisfied: sacremoses in c:\\users\\ashmit_sinha\\appdata\\local\\anaconda3\\lib\\site-packages (from transformers==4.14.0) (0.0.43)\n",
      "Collecting tokenizers<0.11,>=0.10.1 (from transformers==4.14.0)\n",
      "  Downloading tokenizers-0.10.3.tar.gz (212 kB)\n",
      "     ---------------------------------------- 0.0/212.7 kB ? eta -:--:--\n",
      "     -------------------------------------- - 204.8/212.7 kB ? eta -:--:--\n",
      "     -------------------------------------- - 204.8/212.7 kB ? eta -:--:--\n",
      "     -------------------------------------- - 204.8/212.7 kB ? eta -:--:--\n",
      "     -------------------------------------- - 204.8/212.7 kB ? eta -:--:--\n",
      "     -------------------------------------- 212.7/212.7 kB 1.1 MB/s eta 0:00:00\n",
      "  Installing build dependencies: started\n",
      "  Installing build dependencies: finished with status 'done'\n",
      "  Getting requirements to build wheel: started\n",
      "  Getting requirements to build wheel: finished with status 'done'\n",
      "  Preparing metadata (pyproject.toml): started\n",
      "  Preparing metadata (pyproject.toml): finished with status 'done'\n",
      "Requirement already satisfied: tqdm>=4.27 in c:\\users\\ashmit_sinha\\appdata\\local\\anaconda3\\lib\\site-packages (from transformers==4.14.0) (4.65.0)\n",
      "Collecting fsspec>=2023.5.0 (from huggingface-hub<1.0,>=0.1.0->transformers==4.14.0)\n",
      "  Using cached fsspec-2023.10.0-py3-none-any.whl.metadata (6.8 kB)\n",
      "Requirement already satisfied: typing-extensions>=3.7.4.3 in c:\\users\\ashmit_sinha\\appdata\\local\\anaconda3\\lib\\site-packages (from huggingface-hub<1.0,>=0.1.0->transformers==4.14.0) (4.8.0)\n",
      "Requirement already satisfied: colorama in c:\\users\\ashmit_sinha\\appdata\\local\\anaconda3\\lib\\site-packages (from tqdm>=4.27->transformers==4.14.0) (0.4.6)\n",
      "Requirement already satisfied: charset-normalizer<4,>=2 in c:\\users\\ashmit_sinha\\appdata\\local\\anaconda3\\lib\\site-packages (from requests->transformers==4.14.0) (2.0.4)\n",
      "Requirement already satisfied: idna<4,>=2.5 in c:\\users\\ashmit_sinha\\appdata\\local\\anaconda3\\lib\\site-packages (from requests->transformers==4.14.0) (3.4)\n",
      "Requirement already satisfied: urllib3<3,>=1.21.1 in c:\\users\\ashmit_sinha\\appdata\\local\\anaconda3\\lib\\site-packages (from requests->transformers==4.14.0) (1.26.16)\n",
      "Requirement already satisfied: certifi>=2017.4.17 in c:\\users\\ashmit_sinha\\appdata\\local\\anaconda3\\lib\\site-packages (from requests->transformers==4.14.0) (2023.7.22)\n",
      "Requirement already satisfied: six in c:\\users\\ashmit_sinha\\appdata\\local\\anaconda3\\lib\\site-packages (from sacremoses->transformers==4.14.0) (1.16.0)\n",
      "Requirement already satisfied: click in c:\\users\\ashmit_sinha\\appdata\\local\\anaconda3\\lib\\site-packages (from sacremoses->transformers==4.14.0) (8.0.4)\n",
      "Requirement already satisfied: joblib in c:\\users\\ashmit_sinha\\appdata\\local\\anaconda3\\lib\\site-packages (from sacremoses->transformers==4.14.0) (1.2.0)\n",
      "Using cached huggingface_hub-0.19.4-py3-none-any.whl (311 kB)\n",
      "Using cached fsspec-2023.10.0-py3-none-any.whl (166 kB)\n",
      "Building wheels for collected packages: tokenizers\n",
      "  Building wheel for tokenizers (pyproject.toml): started\n",
      "  Building wheel for tokenizers (pyproject.toml): finished with status 'error'\n",
      "Failed to build tokenizers\n"
     ]
    },
    {
     "name": "stderr",
     "output_type": "stream",
     "text": [
      "WARNING: The candidate selected for download or install is a yanked version: 'transformers' candidate (version 4.14.0 at https://files.pythonhosted.org/packages/1a/6e/b64c7a875b37ed0b22b264d62613aab8782ef92249c591f806f51739281e/transformers-4.14.0-py3-none-any.whl (from https://pypi.org/simple/transformers/) (requires-python:>=3.6.0))\n",
      "Reason for being yanked: Circular import when both TensorFlow and Onnx are in the env\n",
      "  error: subprocess-exited-with-error\n",
      "  \n",
      "  Building wheel for tokenizers (pyproject.toml) did not run successfully.\n",
      "  exit code: 1\n",
      "  \n",
      "  [51 lines of output]\n",
      "  running bdist_wheel\n",
      "  running build\n",
      "  running build_py\n",
      "  creating build\n",
      "  creating build\\lib.win-amd64-cpython-311\n",
      "  creating build\\lib.win-amd64-cpython-311\\tokenizers\n",
      "  copying py_src\\tokenizers\\__init__.py -> build\\lib.win-amd64-cpython-311\\tokenizers\n",
      "  creating build\\lib.win-amd64-cpython-311\\tokenizers\\models\n",
      "  copying py_src\\tokenizers\\models\\__init__.py -> build\\lib.win-amd64-cpython-311\\tokenizers\\models\n",
      "  creating build\\lib.win-amd64-cpython-311\\tokenizers\\decoders\n",
      "  copying py_src\\tokenizers\\decoders\\__init__.py -> build\\lib.win-amd64-cpython-311\\tokenizers\\decoders\n",
      "  creating build\\lib.win-amd64-cpython-311\\tokenizers\\normalizers\n",
      "  copying py_src\\tokenizers\\normalizers\\__init__.py -> build\\lib.win-amd64-cpython-311\\tokenizers\\normalizers\n",
      "  creating build\\lib.win-amd64-cpython-311\\tokenizers\\pre_tokenizers\n",
      "  copying py_src\\tokenizers\\pre_tokenizers\\__init__.py -> build\\lib.win-amd64-cpython-311\\tokenizers\\pre_tokenizers\n",
      "  creating build\\lib.win-amd64-cpython-311\\tokenizers\\processors\n",
      "  copying py_src\\tokenizers\\processors\\__init__.py -> build\\lib.win-amd64-cpython-311\\tokenizers\\processors\n",
      "  creating build\\lib.win-amd64-cpython-311\\tokenizers\\trainers\n",
      "  copying py_src\\tokenizers\\trainers\\__init__.py -> build\\lib.win-amd64-cpython-311\\tokenizers\\trainers\n",
      "  creating build\\lib.win-amd64-cpython-311\\tokenizers\\implementations\n",
      "  copying py_src\\tokenizers\\implementations\\base_tokenizer.py -> build\\lib.win-amd64-cpython-311\\tokenizers\\implementations\n",
      "  copying py_src\\tokenizers\\implementations\\bert_wordpiece.py -> build\\lib.win-amd64-cpython-311\\tokenizers\\implementations\n",
      "  copying py_src\\tokenizers\\implementations\\byte_level_bpe.py -> build\\lib.win-amd64-cpython-311\\tokenizers\\implementations\n",
      "  copying py_src\\tokenizers\\implementations\\char_level_bpe.py -> build\\lib.win-amd64-cpython-311\\tokenizers\\implementations\n",
      "  copying py_src\\tokenizers\\implementations\\sentencepiece_bpe.py -> build\\lib.win-amd64-cpython-311\\tokenizers\\implementations\n",
      "  copying py_src\\tokenizers\\implementations\\sentencepiece_unigram.py -> build\\lib.win-amd64-cpython-311\\tokenizers\\implementations\n",
      "  copying py_src\\tokenizers\\implementations\\__init__.py -> build\\lib.win-amd64-cpython-311\\tokenizers\\implementations\n",
      "  creating build\\lib.win-amd64-cpython-311\\tokenizers\\tools\n",
      "  copying py_src\\tokenizers\\tools\\visualizer.py -> build\\lib.win-amd64-cpython-311\\tokenizers\\tools\n",
      "  copying py_src\\tokenizers\\tools\\__init__.py -> build\\lib.win-amd64-cpython-311\\tokenizers\\tools\n",
      "  copying py_src\\tokenizers\\__init__.pyi -> build\\lib.win-amd64-cpython-311\\tokenizers\n",
      "  copying py_src\\tokenizers\\models\\__init__.pyi -> build\\lib.win-amd64-cpython-311\\tokenizers\\models\n",
      "  copying py_src\\tokenizers\\decoders\\__init__.pyi -> build\\lib.win-amd64-cpython-311\\tokenizers\\decoders\n",
      "  copying py_src\\tokenizers\\normalizers\\__init__.pyi -> build\\lib.win-amd64-cpython-311\\tokenizers\\normalizers\n",
      "  copying py_src\\tokenizers\\pre_tokenizers\\__init__.pyi -> build\\lib.win-amd64-cpython-311\\tokenizers\\pre_tokenizers\n",
      "  copying py_src\\tokenizers\\processors\\__init__.pyi -> build\\lib.win-amd64-cpython-311\\tokenizers\\processors\n",
      "  copying py_src\\tokenizers\\trainers\\__init__.pyi -> build\\lib.win-amd64-cpython-311\\tokenizers\\trainers\n",
      "  copying py_src\\tokenizers\\tools\\visualizer-styles.css -> build\\lib.win-amd64-cpython-311\\tokenizers\\tools\n",
      "  running build_ext\n",
      "  running build_rust\n",
      "  error: can't find Rust compiler\n",
      "  \n",
      "  If you are using an outdated pip version, it is possible a prebuilt wheel is available for this package but pip is not able to install from it. Installing from the wheel would avoid the need for a Rust compiler.\n",
      "  \n",
      "  To update pip, run:\n",
      "  \n",
      "      pip install --upgrade pip\n",
      "  \n",
      "  and then retry package installation.\n",
      "  \n",
      "  If you did intend to build this package from source, try installing a Rust compiler from your system package manager and ensure it is on the PATH during installation. Alternatively, rustup (available at https://rustup.rs) is the recommended way to download and update the Rust compiler toolchain.\n",
      "  [end of output]\n",
      "  \n",
      "  note: This error originates from a subprocess, and is likely not a problem with pip.\n",
      "  ERROR: Failed building wheel for tokenizers\n",
      "ERROR: Could not build wheels for tokenizers, which is required to install pyproject.toml-based projects\n"
     ]
    }
   ],
   "source": []
  },
  {
   "cell_type": "code",
   "execution_count": 3,
   "id": "60e91b88",
   "metadata": {},
   "outputs": [
    {
     "ename": "SyntaxError",
     "evalue": "invalid syntax (1139368413.py, line 1)",
     "output_type": "error",
     "traceback": [
      "\u001b[1;36m  Cell \u001b[1;32mIn[3], line 1\u001b[1;36m\u001b[0m\n\u001b[1;33m    curl --proto '=https' --tlsv1.2 -sSf https://sh.rustup.rs | sh\u001b[0m\n\u001b[1;37m                 ^\u001b[0m\n\u001b[1;31mSyntaxError\u001b[0m\u001b[1;31m:\u001b[0m invalid syntax\n"
     ]
    }
   ],
   "source": [
    "curl --proto '=https' --tlsv1.2 -sSf https://sh.rustup.rs | sh"
   ]
  },
  {
   "cell_type": "code",
   "execution_count": 6,
   "id": "76136657",
   "metadata": {},
   "outputs": [
    {
     "data": {
      "application/vnd.jupyter.widget-view+json": {
       "model_id": "d485b1a7d4394e2fbfc1629281377d85",
       "version_major": 2,
       "version_minor": 0
      },
      "text/plain": [
       "tokenizer_config.json:   0%|          | 0.00/87.0 [00:00<?, ?B/s]"
      ]
     },
     "metadata": {},
     "output_type": "display_data"
    },
    {
     "name": "stderr",
     "output_type": "stream",
     "text": [
      "C:\\Users\\ashmit_sinha\\AppData\\Local\\anaconda3\\Lib\\site-packages\\huggingface_hub\\file_download.py:147: UserWarning: `huggingface_hub` cache-system uses symlinks by default to efficiently store duplicated files but your machine does not support them in C:\\Users\\ashmit_sinha\\.cache\\huggingface\\hub. Caching files will still work but in a degraded version that might require more space on your disk. This warning can be disabled by setting the `HF_HUB_DISABLE_SYMLINKS_WARNING` environment variable. For more details, see https://huggingface.co/docs/huggingface_hub/how-to-cache#limitations.\n",
      "To support symlinks on Windows, you either need to activate Developer Mode or to run Python as an administrator. In order to see activate developer mode, see this article: https://docs.microsoft.com/en-us/windows/apps/get-started/enable-your-device-for-development\n",
      "  warnings.warn(message)\n"
     ]
    },
    {
     "data": {
      "application/vnd.jupyter.widget-view+json": {
       "model_id": "fcf9ffb88dc44d1f8f171a7b3b1229c1",
       "version_major": 2,
       "version_minor": 0
      },
      "text/plain": [
       "spiece.model:   0%|          | 0.00/1.91M [00:00<?, ?B/s]"
      ]
     },
     "metadata": {},
     "output_type": "display_data"
    },
    {
     "data": {
      "application/vnd.jupyter.widget-view+json": {
       "model_id": "14429cc4cc5e45c68d519de7b346b35b",
       "version_major": 2,
       "version_minor": 0
      },
      "text/plain": [
       "special_tokens_map.json:   0%|          | 0.00/65.0 [00:00<?, ?B/s]"
      ]
     },
     "metadata": {},
     "output_type": "display_data"
    },
    {
     "data": {
      "application/vnd.jupyter.widget-view+json": {
       "model_id": "c8280e8b01be4a47843f95e76404937b",
       "version_major": 2,
       "version_minor": 0
      },
      "text/plain": [
       "tokenizer.json:   0%|          | 0.00/3.52M [00:00<?, ?B/s]"
      ]
     },
     "metadata": {},
     "output_type": "display_data"
    },
    {
     "data": {
      "application/vnd.jupyter.widget-view+json": {
       "model_id": "2ff24975c81e40c0bd157f68b4908c67",
       "version_major": 2,
       "version_minor": 0
      },
      "text/plain": [
       "config.json:   0%|          | 0.00/1.39k [00:00<?, ?B/s]"
      ]
     },
     "metadata": {},
     "output_type": "display_data"
    }
   ],
   "source": [
    "tokenizer = PegasusTokenizer.from_pretrained(\"google/pegasus-xsum\")"
   ]
  },
  {
   "cell_type": "code",
   "execution_count": 4,
   "id": "6cfc9a42",
   "metadata": {},
   "outputs": [
    {
     "name": "stdout",
     "output_type": "stream",
     "text": [
      "Requirement already satisfied: pip in c:\\users\\ashmit_sinha\\appdata\\local\\anaconda3\\lib\\site-packages (23.2.1)\n",
      "Collecting pip\n",
      "  Obtaining dependency information for pip from https://files.pythonhosted.org/packages/47/6a/453160888fab7c6a432a6e25f8afe6256d0d9f2cbd25971021da6491d899/pip-23.3.1-py3-none-any.whl.metadata\n",
      "  Downloading pip-23.3.1-py3-none-any.whl.metadata (3.5 kB)\n",
      "Using cached pip-23.3.1-py3-none-any.whl (2.1 MB)\n",
      "Installing collected packages: pip\n",
      "  Attempting uninstall: pip\n",
      "    Found existing installation: pip 23.2.1\n",
      "    Uninstalling pip-23.2.1:\n",
      "      Successfully uninstalled pip-23.2.1\n",
      "Successfully installed pip-23.3.1\n",
      "Note: you may need to restart the kernel to use updated packages.\n"
     ]
    }
   ],
   "source": [
    "pip install --upgrade pip"
   ]
  },
  {
   "cell_type": "code",
   "execution_count": 2,
   "id": "f8868e0a",
   "metadata": {},
   "outputs": [
    {
     "name": "stdout",
     "output_type": "stream",
     "text": [
      "Requirement already satisfied: torch in c:\\users\\ashmit_sinha\\appdata\\local\\anaconda3\\lib\\site-packages (2.1.1)\n",
      "Requirement already satisfied: torchvision in c:\\users\\ashmit_sinha\\appdata\\local\\anaconda3\\lib\\site-packages (0.16.1)\n",
      "Requirement already satisfied: torchaudio in c:\\users\\ashmit_sinha\\appdata\\local\\anaconda3\\lib\\site-packages (2.1.1)\n",
      "Requirement already satisfied: filelock in c:\\users\\ashmit_sinha\\appdata\\local\\anaconda3\\lib\\site-packages (from torch) (3.9.0)\n",
      "Requirement already satisfied: typing-extensions in c:\\users\\ashmit_sinha\\appdata\\local\\anaconda3\\lib\\site-packages (from torch) (4.8.0)\n",
      "Requirement already satisfied: sympy in c:\\users\\ashmit_sinha\\appdata\\local\\anaconda3\\lib\\site-packages (from torch) (1.11.1)\n",
      "Requirement already satisfied: networkx in c:\\users\\ashmit_sinha\\appdata\\local\\anaconda3\\lib\\site-packages (from torch) (3.1)\n",
      "Requirement already satisfied: jinja2 in c:\\users\\ashmit_sinha\\appdata\\local\\anaconda3\\lib\\site-packages (from torch) (3.1.2)\n",
      "Requirement already satisfied: fsspec in c:\\users\\ashmit_sinha\\appdata\\local\\anaconda3\\lib\\site-packages (from torch) (2023.3.0)\n",
      "Requirement already satisfied: numpy in c:\\users\\ashmit_sinha\\appdata\\local\\anaconda3\\lib\\site-packages (from torchvision) (1.24.3)\n",
      "Requirement already satisfied: requests in c:\\users\\ashmit_sinha\\appdata\\local\\anaconda3\\lib\\site-packages (from torchvision) (2.31.0)\n",
      "Requirement already satisfied: pillow!=8.3.*,>=5.3.0 in c:\\users\\ashmit_sinha\\appdata\\local\\anaconda3\\lib\\site-packages (from torchvision) (9.4.0)\n",
      "Requirement already satisfied: MarkupSafe>=2.0 in c:\\users\\ashmit_sinha\\appdata\\local\\anaconda3\\lib\\site-packages (from jinja2->torch) (2.1.1)\n",
      "Requirement already satisfied: charset-normalizer<4,>=2 in c:\\users\\ashmit_sinha\\appdata\\local\\anaconda3\\lib\\site-packages (from requests->torchvision) (2.0.4)\n",
      "Requirement already satisfied: idna<4,>=2.5 in c:\\users\\ashmit_sinha\\appdata\\local\\anaconda3\\lib\\site-packages (from requests->torchvision) (3.4)\n",
      "Requirement already satisfied: urllib3<3,>=1.21.1 in c:\\users\\ashmit_sinha\\appdata\\local\\anaconda3\\lib\\site-packages (from requests->torchvision) (1.26.16)\n",
      "Requirement already satisfied: certifi>=2017.4.17 in c:\\users\\ashmit_sinha\\appdata\\local\\anaconda3\\lib\\site-packages (from requests->torchvision) (2023.7.22)\n",
      "Requirement already satisfied: mpmath>=0.19 in c:\\users\\ashmit_sinha\\appdata\\local\\anaconda3\\lib\\site-packages (from sympy->torch) (1.3.0)\n",
      "Note: you may need to restart the kernel to use updated packages.\n"
     ]
    }
   ],
   "source": [
    "pip install torch torchvision torchaudio"
   ]
  },
  {
   "cell_type": "code",
   "execution_count": 6,
   "id": "d5dd3927",
   "metadata": {},
   "outputs": [
    {
     "name": "stdout",
     "output_type": "stream",
     "text": [
      "Requirement already satisfied: transformers in c:\\users\\ashmit_sinha\\appdata\\local\\anaconda3\\lib\\site-packages (2.1.1)Note: you may need to restart the kernel to use updated packages.\n",
      "\n",
      "Requirement already satisfied: numpy in c:\\users\\ashmit_sinha\\appdata\\local\\anaconda3\\lib\\site-packages (from transformers) (1.24.3)\n",
      "Requirement already satisfied: boto3 in c:\\users\\ashmit_sinha\\appdata\\local\\anaconda3\\lib\\site-packages (from transformers) (1.24.28)\n",
      "Requirement already satisfied: requests in c:\\users\\ashmit_sinha\\appdata\\local\\anaconda3\\lib\\site-packages (from transformers) (2.31.0)\n",
      "Requirement already satisfied: tqdm in c:\\users\\ashmit_sinha\\appdata\\local\\anaconda3\\lib\\site-packages (from transformers) (4.65.0)\n",
      "Requirement already satisfied: regex in c:\\users\\ashmit_sinha\\appdata\\local\\anaconda3\\lib\\site-packages (from transformers) (2022.7.9)\n",
      "Requirement already satisfied: sentencepiece in c:\\users\\ashmit_sinha\\appdata\\local\\anaconda3\\lib\\site-packages (from transformers) (0.1.99)\n",
      "Requirement already satisfied: sacremoses in c:\\users\\ashmit_sinha\\appdata\\local\\anaconda3\\lib\\site-packages (from transformers) (0.0.43)\n",
      "Requirement already satisfied: botocore<1.28.0,>=1.27.28 in c:\\users\\ashmit_sinha\\appdata\\local\\anaconda3\\lib\\site-packages (from boto3->transformers) (1.27.59)\n",
      "Requirement already satisfied: jmespath<2.0.0,>=0.7.1 in c:\\users\\ashmit_sinha\\appdata\\local\\anaconda3\\lib\\site-packages (from boto3->transformers) (0.10.0)\n",
      "Requirement already satisfied: s3transfer<0.7.0,>=0.6.0 in c:\\users\\ashmit_sinha\\appdata\\local\\anaconda3\\lib\\site-packages (from boto3->transformers) (0.6.0)\n",
      "Requirement already satisfied: charset-normalizer<4,>=2 in c:\\users\\ashmit_sinha\\appdata\\local\\anaconda3\\lib\\site-packages (from requests->transformers) (2.0.4)\n",
      "Requirement already satisfied: idna<4,>=2.5 in c:\\users\\ashmit_sinha\\appdata\\local\\anaconda3\\lib\\site-packages (from requests->transformers) (3.4)\n",
      "Requirement already satisfied: urllib3<3,>=1.21.1 in c:\\users\\ashmit_sinha\\appdata\\local\\anaconda3\\lib\\site-packages (from requests->transformers) (1.26.16)\n",
      "Requirement already satisfied: certifi>=2017.4.17 in c:\\users\\ashmit_sinha\\appdata\\local\\anaconda3\\lib\\site-packages (from requests->transformers) (2023.7.22)\n",
      "Requirement already satisfied: six in c:\\users\\ashmit_sinha\\appdata\\local\\anaconda3\\lib\\site-packages (from sacremoses->transformers) (1.16.0)\n",
      "Requirement already satisfied: click in c:\\users\\ashmit_sinha\\appdata\\local\\anaconda3\\lib\\site-packages (from sacremoses->transformers) (8.0.4)\n",
      "Requirement already satisfied: joblib in c:\\users\\ashmit_sinha\\appdata\\local\\anaconda3\\lib\\site-packages (from sacremoses->transformers) (1.2.0)\n",
      "Requirement already satisfied: colorama in c:\\users\\ashmit_sinha\\appdata\\local\\anaconda3\\lib\\site-packages (from tqdm->transformers) (0.4.6)\n",
      "Requirement already satisfied: python-dateutil<3.0.0,>=2.1 in c:\\users\\ashmit_sinha\\appdata\\local\\anaconda3\\lib\\site-packages (from botocore<1.28.0,>=1.27.28->boto3->transformers) (2.8.2)\n"
     ]
    }
   ],
   "source": [
    "pip install transformers"
   ]
  },
  {
   "cell_type": "code",
   "execution_count": 4,
   "id": "f54ecece",
   "metadata": {},
   "outputs": [],
   "source": [
    "from transformers import PegasusForConditionalGeneration\n"
   ]
  },
  {
   "cell_type": "code",
   "execution_count": 3,
   "id": "b0704107",
   "metadata": {},
   "outputs": [],
   "source": [
    "from transformers import PegasusTokenizer\n"
   ]
  },
  {
   "cell_type": "code",
   "execution_count": 5,
   "id": "0b3c40ba",
   "metadata": {},
   "outputs": [
    {
     "data": {
      "text/plain": [
       "'4.36.0.dev0'"
      ]
     },
     "execution_count": 5,
     "metadata": {},
     "output_type": "execute_result"
    }
   ],
   "source": [
    "transformers.__version__"
   ]
  },
  {
   "cell_type": "code",
   "execution_count": 1,
   "id": "f4a50c73",
   "metadata": {},
   "outputs": [
    {
     "name": "stdout",
     "output_type": "stream",
     "text": [
      "Collecting git+https://github.com/huggingface/transformers\n",
      "  Cloning https://github.com/huggingface/transformers to c:\\users\\ashmit_sinha\\appdata\\local\\temp\\pip-req-build-8qxm17kr\n",
      "  Resolved https://github.com/huggingface/transformers to commit 8aca43bdb3cb9a5020f6d57589d85679dc873b1c\n",
      "  Installing build dependencies: started\n",
      "  Installing build dependencies: finished with status 'done'\n",
      "  Getting requirements to build wheel: started\n",
      "  Getting requirements to build wheel: finished with status 'done'\n",
      "  Preparing metadata (pyproject.toml): started\n",
      "  Preparing metadata (pyproject.toml): finished with status 'done'\n",
      "Requirement already satisfied: filelock in c:\\users\\ashmit_sinha\\appdata\\local\\anaconda3\\lib\\site-packages (from transformers==4.36.0.dev0) (3.9.0)\n",
      "Collecting huggingface-hub<1.0,>=0.19.3 (from transformers==4.36.0.dev0)\n",
      "  Using cached huggingface_hub-0.19.4-py3-none-any.whl.metadata (14 kB)\n",
      "Requirement already satisfied: numpy>=1.17 in c:\\users\\ashmit_sinha\\appdata\\local\\anaconda3\\lib\\site-packages (from transformers==4.36.0.dev0) (1.24.3)\n",
      "Requirement already satisfied: packaging>=20.0 in c:\\users\\ashmit_sinha\\appdata\\local\\anaconda3\\lib\\site-packages (from transformers==4.36.0.dev0) (23.0)\n",
      "Requirement already satisfied: pyyaml>=5.1 in c:\\users\\ashmit_sinha\\appdata\\local\\anaconda3\\lib\\site-packages (from transformers==4.36.0.dev0) (6.0)\n",
      "Requirement already satisfied: regex!=2019.12.17 in c:\\users\\ashmit_sinha\\appdata\\local\\anaconda3\\lib\\site-packages (from transformers==4.36.0.dev0) (2022.7.9)\n",
      "Requirement already satisfied: requests in c:\\users\\ashmit_sinha\\appdata\\local\\anaconda3\\lib\\site-packages (from transformers==4.36.0.dev0) (2.31.0)\n",
      "Collecting tokenizers<0.19,>=0.14 (from transformers==4.36.0.dev0)\n",
      "  Downloading tokenizers-0.15.0-cp311-none-win_amd64.whl.metadata (6.8 kB)\n",
      "Collecting safetensors>=0.3.1 (from transformers==4.36.0.dev0)\n",
      "  Downloading safetensors-0.4.0-cp311-none-win_amd64.whl.metadata (3.8 kB)\n",
      "Requirement already satisfied: tqdm>=4.27 in c:\\users\\ashmit_sinha\\appdata\\local\\anaconda3\\lib\\site-packages (from transformers==4.36.0.dev0) (4.65.0)\n",
      "Collecting fsspec>=2023.5.0 (from huggingface-hub<1.0,>=0.19.3->transformers==4.36.0.dev0)\n",
      "  Using cached fsspec-2023.10.0-py3-none-any.whl.metadata (6.8 kB)\n",
      "Requirement already satisfied: typing-extensions>=3.7.4.3 in c:\\users\\ashmit_sinha\\appdata\\local\\anaconda3\\lib\\site-packages (from huggingface-hub<1.0,>=0.19.3->transformers==4.36.0.dev0) (4.8.0)\n",
      "Requirement already satisfied: colorama in c:\\users\\ashmit_sinha\\appdata\\local\\anaconda3\\lib\\site-packages (from tqdm>=4.27->transformers==4.36.0.dev0) (0.4.6)\n",
      "Requirement already satisfied: charset-normalizer<4,>=2 in c:\\users\\ashmit_sinha\\appdata\\local\\anaconda3\\lib\\site-packages (from requests->transformers==4.36.0.dev0) (2.0.4)\n",
      "Requirement already satisfied: idna<4,>=2.5 in c:\\users\\ashmit_sinha\\appdata\\local\\anaconda3\\lib\\site-packages (from requests->transformers==4.36.0.dev0) (3.4)\n",
      "Requirement already satisfied: urllib3<3,>=1.21.1 in c:\\users\\ashmit_sinha\\appdata\\local\\anaconda3\\lib\\site-packages (from requests->transformers==4.36.0.dev0) (1.26.16)\n",
      "Requirement already satisfied: certifi>=2017.4.17 in c:\\users\\ashmit_sinha\\appdata\\local\\anaconda3\\lib\\site-packages (from requests->transformers==4.36.0.dev0) (2023.7.22)\n",
      "Using cached huggingface_hub-0.19.4-py3-none-any.whl (311 kB)\n",
      "Downloading safetensors-0.4.0-cp311-none-win_amd64.whl (277 kB)\n",
      "   ---------------------------------------- 0.0/277.4 kB ? eta -:--:--\n",
      "   ---------------------------------------  276.5/277.4 kB 8.3 MB/s eta 0:00:01\n",
      "   ---------------------------------------- 277.4/277.4 kB 2.8 MB/s eta 0:00:00\n",
      "Downloading tokenizers-0.15.0-cp311-none-win_amd64.whl (2.2 MB)\n",
      "   ---------------------------------------- 0.0/2.2 MB ? eta -:--:--\n",
      "   ------- -------------------------------- 0.4/2.2 MB 8.1 MB/s eta 0:00:01\n",
      "   --------------- ------------------------ 0.8/2.2 MB 8.9 MB/s eta 0:00:01\n",
      "   -------------------------- ------------- 1.5/2.2 MB 10.4 MB/s eta 0:00:01\n",
      "   ---------------------------------------  2.2/2.2 MB 11.5 MB/s eta 0:00:01\n",
      "   ---------------------------------------  2.2/2.2 MB 11.7 MB/s eta 0:00:01\n",
      "   ---------------------------------------  2.2/2.2 MB 11.7 MB/s eta 0:00:01\n",
      "   ---------------------------------------  2.2/2.2 MB 11.7 MB/s eta 0:00:01\n",
      "   ---------------------------------------  2.2/2.2 MB 11.7 MB/s eta 0:00:01\n",
      "   ---------------------------------------  2.2/2.2 MB 11.7 MB/s eta 0:00:01\n",
      "   ---------------------------------------  2.2/2.2 MB 11.7 MB/s eta 0:00:01\n",
      "   ---------------------------------------  2.2/2.2 MB 11.7 MB/s eta 0:00:01\n",
      "   ---------------------------------------  2.2/2.2 MB 11.7 MB/s eta 0:00:01\n",
      "   ---------------------------------------- 2.2/2.2 MB 3.7 MB/s eta 0:00:00\n",
      "Using cached fsspec-2023.10.0-py3-none-any.whl (166 kB)\n",
      "Building wheels for collected packages: transformers\n",
      "  Building wheel for transformers (pyproject.toml): started\n",
      "  Building wheel for transformers (pyproject.toml): still running...\n",
      "  Building wheel for transformers (pyproject.toml): finished with status 'done'\n",
      "  Created wheel for transformers: filename=transformers-4.36.0.dev0-py3-none-any.whl size=8046958 sha256=b482ef076b4c9e810f921ec7bcc0507525f68fe73c053d7d95796e88aab988d9\n",
      "  Stored in directory: C:\\Users\\ashmit_sinha\\AppData\\Local\\Temp\\pip-ephem-wheel-cache-spg3bst0\\wheels\\04\\a3\\f1\\b88775f8e1665827525b19ac7590250f1038d947067beba9fb\n",
      "Successfully built transformers\n",
      "Installing collected packages: safetensors, fsspec, huggingface-hub, tokenizers, transformers\n",
      "  Attempting uninstall: fsspec\n",
      "    Found existing installation: fsspec 2023.3.0\n",
      "    Uninstalling fsspec-2023.3.0:\n",
      "      Successfully uninstalled fsspec-2023.3.0\n",
      "  Attempting uninstall: transformers\n",
      "    Found existing installation: transformers 2.1.1\n",
      "    Uninstalling transformers-2.1.1:\n",
      "      Successfully uninstalled transformers-2.1.1\n",
      "Successfully installed fsspec-2023.10.0 huggingface-hub-0.19.4 safetensors-0.4.0 tokenizers-0.15.0 transformers-4.36.0.dev0\n",
      "Note: you may need to restart the kernel to use updated packages.\n"
     ]
    },
    {
     "name": "stderr",
     "output_type": "stream",
     "text": [
      "  Running command git clone --filter=blob:none --quiet https://github.com/huggingface/transformers 'C:\\Users\\ashmit_sinha\\AppData\\Local\\Temp\\pip-req-build-8qxm17kr'\n",
      "ERROR: pip's dependency resolver does not currently take into account all the packages that are installed. This behaviour is the source of the following dependency conflicts.\n",
      "s3fs 2023.3.0 requires fsspec==2023.3.0, but you have fsspec 2023.10.0 which is incompatible.\n"
     ]
    }
   ],
   "source": [
    "pip install git+https://github.com/huggingface/transformers\n"
   ]
  },
  {
   "cell_type": "code",
   "execution_count": 2,
   "id": "3e8dd851",
   "metadata": {},
   "outputs": [],
   "source": [
    "import transformers"
   ]
  },
  {
   "cell_type": "code",
   "execution_count": 20,
   "id": "0f7d33f3",
   "metadata": {},
   "outputs": [
    {
     "name": "stderr",
     "output_type": "stream",
     "text": [
      "Some weights of PegasusForConditionalGeneration were not initialized from the model checkpoint at google/pegasus-xsum and are newly initialized: ['model.encoder.embed_positions.weight', 'model.decoder.embed_positions.weight']\n",
      "You should probably TRAIN this model on a down-stream task to be able to use it for predictions and inference.\n"
     ]
    }
   ],
   "source": [
    "model = PegasusForConditionalGeneration.from_pretrained(\"google/pegasus-xsum\")"
   ]
  },
  {
   "cell_type": "code",
   "execution_count": 21,
   "id": "f1415645",
   "metadata": {},
   "outputs": [],
   "source": [
    "text = ''' \n",
    "\n",
    "'''"
   ]
  },
  {
   "cell_type": "code",
   "execution_count": 23,
   "id": "4f5cf5a2",
   "metadata": {},
   "outputs": [
    {
     "data": {
      "text/plain": [
       "{'input_ids': tensor([[35857, 21158, 16410,   208, 69272, 17469,  4101,  6948,   454,   305,\n",
       "          1100,  5881,  1350, 52775,   212,   677,  1268, 25558,   158,   140,\n",
       "           142,  2128,  3754,   108,  1857,   121, 41999, 30067,   111,  1488,\n",
       "         18280,  2687,   170,  5039, 62278,  3497,   112,   756,   109,  1147,\n",
       "          1541,   118,  1144,   131,   116,  6846,   135,  1816,  2613,   107,\n",
       "           285,  2261,  5573,   118,  3541,  1420,   111,  3002,   482,   109,\n",
       "           278,   107,   139,  3646, 27408, 19177,   105,   144,   208,   105,\n",
       "           143,  4698, 31747,  1034, 13228,   121, 32721,   316,   108, 40902,\n",
       "           131,   312,   211,  2140,   112,   342,   115,   793,  1922,   115,\n",
       "         22157,   108,   117,   239,   263,   720,   109,   278,   107, 10319,\n",
       "           111,  2244,   115,   114, 14286,   328,   115,  6805, 21679,   108,\n",
       "         17469,  2492,   115,   109,   775,   134,   109, 17362,  6518,   108,\n",
       "          1169,   108,   111,   140,   568,   112,   109,  1290,   134,   779,\n",
       "          2168,   115,  1185, 37667,   107,   721,   228, 11899,   231,   115,\n",
       "          1144,   108,   241,   178,   140,  3231,   112,   388,   114,  1147,\n",
       "           775,   846,   108,   178,  1652,   112,   793,  1922,   115, 38315,\n",
       "           112,  2885,   142,  2128, 10669,   115,   114,  6995,   107,   285,\n",
       "           687,   124,   112,   498,   115,   793,  1922,   118,  1616,   231,\n",
       "           107,   168,   140,   264,   120, 17469,  2244,   114,   328,   111,\n",
       "           211,  5039, 62278,  3497,   115,   114,  1541,   118,  3541,  1420,\n",
       "           107,   222, 22061,   108,  4843,  3125,   108,   178,  2491,   112,\n",
       "          1144,   111,   783,   323,   160, 16588, 51671,   108,  4351,   108,\n",
       "           111,  3290,  6963,  1129,   112,  8255,   464,  6942,  1241,   121,\n",
       "         12073,   111,  9615,   107, 35568,  2071,   113,   109,  2128,   765,\n",
       "          3108,   115, 27162,   108, 17469,  1358,  6307,  4515,   118, 23645,\n",
       "          5360,   108,  5267,   652,   131,   116,  1420,   108,   563,  3503,\n",
       "           111,  8693,   346,  2922,   108,  4439,  1596, 13929,  5492,   108,\n",
       "           111,   108,   607,   149,   108,  5337, 31804, 72214,   132,   813,\n",
       "           121, 27841,   107, 17469,  4816,   109,   613,   110, 17726, 30900,\n",
       "         11229,   122,   561,   121, 49721,  9001,   130,   114,  2689,   113,\n",
       "          6247,   122,  1144,   131,   116,  3933,  2111,   107,   285,  1219,\n",
       "           112,   498,   115,   114,   813,   121, 30050,  2626,   427,   108,\n",
       "           112,  1461,   586,   425,   108,   111,  8786,   300,   991,   116,\n",
       "           130,   114,   495,   113,   302, 54915,   111,  1488,  8255,   107,\n",
       "          6196,   273,  1857,   121, 41999, 30328,   112,   109,   830, 11888,\n",
       "           108, 17469,  1358,   183,   115,  2782,   109,  1816,   121, 44646,\n",
       "          2479,  1035,   122,   109,  4087,  3521, 64302,  8194,   158,  4139,\n",
       "          5106,  7345,  1051,   115,  9844,   111,   115,  2390,   118,   109,\n",
       "          1816,   112,  7209,  1144,   115, 20577,   107,   285,   140, 27154,\n",
       "           223,   488,   111,   118,   223,   231,   115,   302,   793,  1922,\n",
       "           111,  1144,   107, 17469,   131,   116,  1942,   113,   142,  1991,\n",
       "          1144,   451,   124,  3503, 80740,   140,  8043,   115,   109,   616,\n",
       "         11324,   116,   141,   114,  6452, 30328,   162, 12783,   114,  1910,\n",
       "         18831,   118, 10505,   373,  1816,  1144,   107,   222,  1508, 18880,\n",
       "           108,  4329,  4571,  6846,   108,   155,   109,  1816,  2128,  7292,\n",
       "           140, 70236,   190,   228, 56865,   116,   108,   114, 14286,   121,\n",
       "         62180,  1144,   111,   114,  6452,   121, 62180,  4856,   107,   398,\n",
       "           223, 17778, 46976,   108, 10505,   108,   111, 67335,   266,   153,\n",
       "           230,   112,   153,   177,  8872,   108,  3503,  3459,  4820,   165,\n",
       "           108,   704,   115,   109, 18812,   111, 19655,   107, 12063, 49582,\n",
       "           273,   135,   109,  1571,  3962,   113,  6846,   108, 17469,  3333,\n",
       "           109,     1]]), 'attention_mask': tensor([[1, 1, 1, 1, 1, 1, 1, 1, 1, 1, 1, 1, 1, 1, 1, 1, 1, 1, 1, 1, 1, 1, 1, 1,\n",
       "         1, 1, 1, 1, 1, 1, 1, 1, 1, 1, 1, 1, 1, 1, 1, 1, 1, 1, 1, 1, 1, 1, 1, 1,\n",
       "         1, 1, 1, 1, 1, 1, 1, 1, 1, 1, 1, 1, 1, 1, 1, 1, 1, 1, 1, 1, 1, 1, 1, 1,\n",
       "         1, 1, 1, 1, 1, 1, 1, 1, 1, 1, 1, 1, 1, 1, 1, 1, 1, 1, 1, 1, 1, 1, 1, 1,\n",
       "         1, 1, 1, 1, 1, 1, 1, 1, 1, 1, 1, 1, 1, 1, 1, 1, 1, 1, 1, 1, 1, 1, 1, 1,\n",
       "         1, 1, 1, 1, 1, 1, 1, 1, 1, 1, 1, 1, 1, 1, 1, 1, 1, 1, 1, 1, 1, 1, 1, 1,\n",
       "         1, 1, 1, 1, 1, 1, 1, 1, 1, 1, 1, 1, 1, 1, 1, 1, 1, 1, 1, 1, 1, 1, 1, 1,\n",
       "         1, 1, 1, 1, 1, 1, 1, 1, 1, 1, 1, 1, 1, 1, 1, 1, 1, 1, 1, 1, 1, 1, 1, 1,\n",
       "         1, 1, 1, 1, 1, 1, 1, 1, 1, 1, 1, 1, 1, 1, 1, 1, 1, 1, 1, 1, 1, 1, 1, 1,\n",
       "         1, 1, 1, 1, 1, 1, 1, 1, 1, 1, 1, 1, 1, 1, 1, 1, 1, 1, 1, 1, 1, 1, 1, 1,\n",
       "         1, 1, 1, 1, 1, 1, 1, 1, 1, 1, 1, 1, 1, 1, 1, 1, 1, 1, 1, 1, 1, 1, 1, 1,\n",
       "         1, 1, 1, 1, 1, 1, 1, 1, 1, 1, 1, 1, 1, 1, 1, 1, 1, 1, 1, 1, 1, 1, 1, 1,\n",
       "         1, 1, 1, 1, 1, 1, 1, 1, 1, 1, 1, 1, 1, 1, 1, 1, 1, 1, 1, 1, 1, 1, 1, 1,\n",
       "         1, 1, 1, 1, 1, 1, 1, 1, 1, 1, 1, 1, 1, 1, 1, 1, 1, 1, 1, 1, 1, 1, 1, 1,\n",
       "         1, 1, 1, 1, 1, 1, 1, 1, 1, 1, 1, 1, 1, 1, 1, 1, 1, 1, 1, 1, 1, 1, 1, 1,\n",
       "         1, 1, 1, 1, 1, 1, 1, 1, 1, 1, 1, 1, 1, 1, 1, 1, 1, 1, 1, 1, 1, 1, 1, 1,\n",
       "         1, 1, 1, 1, 1, 1, 1, 1, 1, 1, 1, 1, 1, 1, 1, 1, 1, 1, 1, 1, 1, 1, 1, 1,\n",
       "         1, 1, 1, 1, 1, 1, 1, 1, 1, 1, 1, 1, 1, 1, 1, 1, 1, 1, 1, 1, 1, 1, 1, 1,\n",
       "         1, 1, 1, 1, 1, 1, 1, 1, 1, 1, 1, 1, 1, 1, 1, 1, 1, 1, 1, 1, 1, 1, 1, 1,\n",
       "         1, 1, 1, 1, 1, 1, 1, 1, 1, 1, 1, 1, 1, 1, 1, 1, 1, 1, 1, 1, 1, 1, 1, 1,\n",
       "         1, 1, 1, 1, 1, 1, 1, 1, 1, 1, 1, 1, 1, 1, 1, 1, 1, 1, 1, 1, 1, 1, 1, 1,\n",
       "         1, 1, 1, 1, 1, 1, 1, 1]])}"
      ]
     },
     "execution_count": 23,
     "metadata": {},
     "output_type": "execute_result"
    }
   ],
   "source": [
    "tokens = tokenizer(text, truncation=True, padding=\"longest\", return_tensors=\"pt\")\n",
    "tokens"
   ]
  },
  {
   "cell_type": "code",
   "execution_count": 27,
   "id": "4f46e4dd",
   "metadata": {},
   "outputs": [
    {
     "data": {
      "text/plain": [
       "tensor([[    0, 35857, 21158, 16410,   208, 69272, 17469,   140,   142,  2128,\n",
       "          3754,   108,  1857,   121, 41999, 30067,   111,  1488, 18280,  2687,\n",
       "           170,  5039, 62278,  3497,   112,   756,   109,  1147,  1541,   118,\n",
       "          1144,   131,   116,  6846,   135,  1816,  2613,   107,     1]])"
      ]
     },
     "execution_count": 27,
     "metadata": {},
     "output_type": "execute_result"
    }
   ],
   "source": [
    "summary = model.generate(**tokens)\n",
    "summary"
   ]
  },
  {
   "cell_type": "code",
   "execution_count": 28,
   "id": "e47c4a7c",
   "metadata": {},
   "outputs": [
    {
     "data": {
      "text/plain": [
       "\"<pad>Mohandas Karamchand Gandhi was an Indian lawyer, anti-colonial nationalist and political ethicist who employed nonviolent resistance to lead the successful campaign for India's independence from British rule.</s>\""
      ]
     },
     "execution_count": 28,
     "metadata": {},
     "output_type": "execute_result"
    }
   ],
   "source": [
    "\n",
    "tokenizer.decode(summary[0])\n"
   ]
  },
  {
   "cell_type": "code",
   "execution_count": 16,
   "id": "287f81a7",
   "metadata": {},
   "outputs": [
    {
     "data": {
      "text/plain": [
       "tensor([[    0, 35857, 21158, 16410,   208, 69272, 17469,   140,   142,  2128,\n",
       "          3754,   108,  1857,   121, 41999, 30067,   111,  1488, 18280,  2687,\n",
       "           170,  5039, 62278,  3497,   112,   756,   109,  1147,  1541,   118,\n",
       "          1144,   131,   116,  6846,   135,  1816,  2613,   107,     1]])"
      ]
     },
     "execution_count": 16,
     "metadata": {},
     "output_type": "execute_result"
    }
   ],
   "source": [
    "summary"
   ]
  },
  {
   "cell_type": "code",
   "execution_count": null,
   "id": "50931696",
   "metadata": {},
   "outputs": [],
   "source": []
  }
 ],
 "metadata": {
  "kernelspec": {
   "display_name": "Python 3 (ipykernel)",
   "language": "python",
   "name": "python3"
  },
  "language_info": {
   "codemirror_mode": {
    "name": "ipython",
    "version": 3
   },
   "file_extension": ".py",
   "mimetype": "text/x-python",
   "name": "python",
   "nbconvert_exporter": "python",
   "pygments_lexer": "ipython3",
   "version": "3.11.4"
  }
 },
 "nbformat": 4,
 "nbformat_minor": 5
}
