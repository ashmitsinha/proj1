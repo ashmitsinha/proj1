{
 "cells": [
  {
   "cell_type": "code",
   "execution_count": 1,
   "id": "b1438acd",
   "metadata": {},
   "outputs": [
    {
     "name": "stdout",
     "output_type": "stream",
     "text": [
      "Collecting pypdf\n",
      "  Downloading pypdf-3.17.1-py3-none-any.whl.metadata (7.5 kB)\n",
      "Downloading pypdf-3.17.1-py3-none-any.whl (277 kB)\n",
      "   ---------------------------------------- 0.0/277.6 kB ? eta -:--:--\n",
      "   ---------------------------- ----------- 194.6/277.6 kB 3.9 MB/s eta 0:00:01\n",
      "   ---------------------------------------  276.5/277.6 kB 4.3 MB/s eta 0:00:01\n",
      "   ---------------------------------------- 277.6/277.6 kB 2.5 MB/s eta 0:00:00\n",
      "Installing collected packages: pypdf\n",
      "Successfully installed pypdf-3.17.1\n",
      "Note: you may need to restart the kernel to use updated packages.\n"
     ]
    }
   ],
   "source": [
    "pip install pypdf"
   ]
  },
  {
   "cell_type": "code",
   "execution_count": null,
   "id": "9318557b",
   "metadata": {},
   "outputs": [],
   "source": []
  }
 ],
 "metadata": {
  "kernelspec": {
   "display_name": "Python 3 (ipykernel)",
   "language": "python",
   "name": "python3"
  },
  "language_info": {
   "codemirror_mode": {
    "name": "ipython",
    "version": 3
   },
   "file_extension": ".py",
   "mimetype": "text/x-python",
   "name": "python",
   "nbconvert_exporter": "python",
   "pygments_lexer": "ipython3",
   "version": "3.11.4"
  }
 },
 "nbformat": 4,
 "nbformat_minor": 5
}
